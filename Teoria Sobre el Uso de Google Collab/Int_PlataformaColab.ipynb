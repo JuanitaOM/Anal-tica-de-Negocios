{
  "nbformat": 4,
  "nbformat_minor": 0,
  "metadata": {
    "colab": {
      "provenance": []
    },
    "kernelspec": {
      "name": "python3",
      "display_name": "Python 3"
    },
    "language_info": {
      "name": "python"
    }
  },
  "cells": [
    {
      "cell_type": "markdown",
      "source": [
        "# **Estudiante: Juanita Ortiz Múnera**"
      ],
      "metadata": {
        "id": "JENOfFAHuSS3"
      }
    },
    {
      "cell_type": "markdown",
      "source": [
        "# **1.Cargar las librerias**"
      ],
      "metadata": {
        "id": "u-oSOcJfgWOb"
      }
    },
    {
      "cell_type": "code",
      "execution_count": 1,
      "metadata": {
        "id": "S7_NnwvzfElF"
      },
      "outputs": [],
      "source": [
        "import numpy as np #Funciones numericas para la transformacion y analisis de datos\n",
        "import pandas as pd #Permite conectar el sistema con la base de datos\n"
      ]
    },
    {
      "cell_type": "markdown",
      "source": [
        "# **2.Conexion con la base de datos**"
      ],
      "metadata": {
        "id": "RPg4wbJchPCn"
      }
    },
    {
      "cell_type": "code",
      "source": [
        "nxl=\"/content/6. SolicitantesCrédito(USD).xlsx\" #me da la ubicacion de la base de datos\n",
        "XDB=pd.read_excel(nxl,sheet_name=0) #le estoy pidiendo que me lea la hoja 0 de la base de datos\n",
        "#si sudrayo XDB y le doy control,mayus y enter collab me abre la base de datos\n",
        "#DataFrame: Tabla de Datos - Tablas word"
      ],
      "metadata": {
        "id": "Ly4_SnCjhoqf"
      },
      "execution_count": 8,
      "outputs": []
    },
    {
      "cell_type": "markdown",
      "source": [
        "# **3.Variable de caracterizacion (edad)**"
      ],
      "metadata": {
        "id": "nsP422JzldP7"
      }
    },
    {
      "cell_type": "code",
      "source": [
        "XDe=XDB[[\"Edad\"]] #llamar una variable (edad)\n",
        "print(XDe)\n",
        "XDe=XDe.dropna() #Eliminar celdas vacias\n",
        "XDe=np.array(XDe) #convirto el vector en numeros ya con eso puedo sacar media, vaianza y valor de pertenencia.\n"
      ],
      "metadata": {
        "colab": {
          "base_uri": "https://localhost:8080/"
        },
        "id": "dD7i0T78lifd",
        "outputId": "219b90f4-a409-40f1-fd3f-96a1a7c91587"
      },
      "execution_count": 20,
      "outputs": [
        {
          "output_type": "stream",
          "name": "stdout",
          "text": [
            "      Edad\n",
            "0       38\n",
            "1       51\n",
            "2       37\n",
            "3       29\n",
            "4       42\n",
            "...    ...\n",
            "8373    31\n",
            "8374    38\n",
            "8375    43\n",
            "8376    37\n",
            "8377    24\n",
            "\n",
            "[8378 rows x 1 columns]\n"
          ]
        }
      ]
    },
    {
      "cell_type": "markdown",
      "source": [
        "# **4.Se calcula la media y la desviacion estandar de la edad**"
      ],
      "metadata": {
        "id": "etd_jrepnW1V"
      }
    },
    {
      "cell_type": "code",
      "source": [
        "print(\"la media de la edad es:\",np.mean(XDe))\n",
        "print(\"la desviacion estandar de la edad es:\",np.std(XDe))\n",
        "print(\"la edad minima es:\", np.mean(XDe)-np.std(XDe))\n",
        "print(\"la edad maxima es:\", np.mean(XDe)+np.std(XDe))\n",
        "#al multiplicarlo por 2 me permite tener una cobertura mas grande de la edad\n",
        "print(\"la edad minima es:\", np.mean(XDe)-2*np.std(XDe))\n",
        "print(\"la edad maxima es:\", np.mean(XDe)+2*np.std(XDe))"
      ],
      "metadata": {
        "colab": {
          "base_uri": "https://localhost:8080/"
        },
        "id": "khkwaG_0nc7z",
        "outputId": "11b0fc85-0e51-4f24-c568-4d2cf50b274e"
      },
      "execution_count": 29,
      "outputs": [
        {
          "output_type": "stream",
          "name": "stdout",
          "text": [
            "la media de la edad es: 40.913583194079735\n",
            "la desviacion estandar de la edad es: 12.22583035765565\n",
            "la edad minima es: 28.687752836424085\n",
            "la edad maxima es: 53.13941355173539\n",
            "la edad minima es: 16.461922478768436\n",
            "la edad maxima es: 65.36524390939104\n"
          ]
        }
      ]
    },
    {
      "cell_type": "markdown",
      "source": [
        "**Desviacion estandar: **es una medida que ofrece informacion sobre la dispercion de una variable\n",
        "\n",
        "**Media**: es el valor promedio de un conjunto de datos numericos, calculada como la suma del conjunto de valores dividida entre el numero total de valores\n",
        "\n",
        "**Edad minima=** media - desviacion estandar\n",
        "\n",
        "**Edad maxima =** media + desviacion standar\n"
      ],
      "metadata": {
        "id": "8rl_7s_So7WB"
      }
    },
    {
      "cell_type": "markdown",
      "source": [],
      "metadata": {
        "id": "Bf15VDVzpoSq"
      }
    },
    {
      "cell_type": "markdown",
      "source": [
        "# **5.Histograma de frecuencia (AGRUPAR LOS DATOS POR INTERVALOS)**"
      ],
      "metadata": {
        "id": "17Qt-C2yp1ux"
      }
    },
    {
      "cell_type": "code",
      "source": [
        "import matplotlib.pyplot as plt\n",
        "plt.hist(XDe,bins=20) #bins me permite establecer cuantos intervalos quiero crear\n",
        "plt.show()#esto me permite mostrar solo el grafico"
      ],
      "metadata": {
        "colab": {
          "base_uri": "https://localhost:8080/",
          "height": 430
        },
        "id": "FDiTvdDopwAg",
        "outputId": "ea4a745a-3b32-4b18-8d93-8c01b58593b1"
      },
      "execution_count": 32,
      "outputs": [
        {
          "output_type": "display_data",
          "data": {
            "text/plain": [
              "<Figure size 640x480 with 1 Axes>"
            ],
            "image/png": "[encoded data removed]"
          },
          "metadata": {}
        }
      ]
    },
    {
      "cell_type": "markdown",
      "source": [
        "# **6.** calcular el valor de pertenencia para una persona de 60 años (0-1) afinidad de un valor para una variable aleatoria"
      ],
      "metadata": {
        "id": "Np_vX3r0qsxQ"
      }
    },
    {
      "cell_type": "markdown",
      "source": [
        "Valor de Pertenencia: es una medida que permite evaluar la pertenencia de un dato en una variable aleatoria\n",
        "\n",
        "¿cual es el valor de pertenencia de una persona de 60 años a la variable edad?\n",
        "\n",
        "cual es la afinidad o la importancia de un dato(60años) frente una variable aleatoria(edad)"
      ],
      "metadata": {
        "id": "kcQKQHwuquo4"
      }
    },
    {
      "cell_type": "code",
      "source": [
        "#-0.5*((60-np.mean(XDe))/np.std(XDe))**2 - FORMULA\n",
        "#VP=np.exp(-0.5*((60-np.mean(XDe))/np.std(XDe))**2)\n",
        "#print(\"el valor de pertenencia para una edad de 60 años es de:\",VP)\n",
        "\n",
        "#-0.5*((50-np.mean(XDe))/np.std(XDe))**2 - FORMULA\n",
        "#VP=np.exp(-0.5*((50-np.mean(XDe))/np.std(XDe))**2)\n",
        "#print(\"el valor de pertenencia para una edad de 50 años es de:\",VP)\n",
        "\n",
        "\n",
        "#-0.5*((49.12-np.mean(XDe))/np.std(XDe))**2 - FORMULA\n",
        "VP=np.exp(-0.5*((49.12-np.mean(XDe))/np.std(XDe))**2)\n",
        "print(\"el valor de pertenencia para una edad de 49.12 años es de:\",VP)\n"
      ],
      "metadata": {
        "colab": {
          "base_uri": "https://localhost:8080/"
        },
        "id": "bT66rXIdrTvZ",
        "outputId": "f152e56f-c286-45bf-c9a2-261a6e989cff"
      },
      "execution_count": 45,
      "outputs": [
        {
          "output_type": "stream",
          "name": "stdout",
          "text": [
            "el valor de pertenencia para una edad de 49.12 años es de: 0.7982935854618557\n"
          ]
        }
      ]
    }
  ]
}