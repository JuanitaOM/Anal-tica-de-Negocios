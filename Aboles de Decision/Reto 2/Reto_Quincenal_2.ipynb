{
  "nbformat": 4,
  "nbformat_minor": 0,
  "metadata": {
    "colab": {
      "provenance": []
    },
    "kernelspec": {
      "name": "python3",
      "display_name": "Python 3"
    },
    "language_info": {
      "name": "python"
    }
  },
  "cells": [
    {
      "cell_type": "markdown",
      "source": [
        "##**Reto Quincenal - Árboles de decisión para predecir que jugadores son probables a realizar compras en la aplicaciòn**\n",
        "\n",
        "Este modelo tiene como objetivo desarrolar un  de arbol de decision para facilitar la prediccion  de jugadores  de una aplicacion que tienen mayor probabilidad de realizar compras en la aplicacion, para asi poder tener una mejor segmentacion de los jugadores.\n",
        "\n",
        "Las variables de entrada son:\n",
        "* Age:Indica la edad  del jugador de la aplicacion\n",
        "* Income: ingreso promedio del jugador de la aplicacion\n",
        "* Years:  Indica cuantos años lleva el jugador utilizando la aplicacion\n",
        "* Hours: Indica  el numero de horas que un jugador pasa usando la plataforma\n",
        "\n",
        "La variable de salida o referencia es:\n",
        "* Buy: Indica si el jugador a realizado alguna compra dentro de la aplicacion o no\n",
        "\n"
      ],
      "metadata": {
        "id": "o2kk_Gyz2utn"
      }
    },
    {
      "cell_type": "markdown",
      "source": [
        "**1. se cargan las librerías de trabajo**"
      ],
      "metadata": {
        "id": "COh-Uaoi4yT8"
      }
    },
    {
      "cell_type": "code",
      "execution_count": null,
      "metadata": {
        "colab": {
          "base_uri": "https://localhost:8080/"
        },
        "id": "4KvFZFYQzpgl",
        "outputId": "94089d2f-c628-4f6c-fe97-b8341b54302f"
      },
      "outputs": [
        {
          "output_type": "stream",
          "name": "stdout",
          "text": [
            "Mounted at /content/drive\n"
          ]
        }
      ],
      "source": [
        "import numpy as np\n",
        "import pandas as pd\n",
        "from sklearn.tree import DecisionTreeClassifier  #modelo de arbol de decisión\n",
        "from sklearn.metrics import confusion_matrix\n",
        "#carga automática de las bases de datos\n",
        "from google.colab import drive\n",
        "drive.mount('/content/drive')"
      ]
    },
    {
      "cell_type": "markdown",
      "source": [
        "**2. Se procede con la carga de los datos**"
      ],
      "metadata": {
        "id": "9sR3Xtxa5SK3"
      }
    },
    {
      "cell_type": "code",
      "source": [
        "nxl = '/content/drive/MyDrive/Analítica de Negocios/2. BD2_In_App_Pur.xlsx'\n",
        "XDB = pd.read_excel(nxl , sheet_name='In_App_Pur_Data') #Base de datos In_App_Pur_Data, lee la base de dato\n",
        "XDB = XDB.dropna()  #Elimina celdas erroneas o N/A\n",
        "\n",
        "XDB = XDB[['Age' , 'Income' , 'Years' , 'Hours' , 'Buy']]\n",
        "#Separa variables de entrada y variables de salida\n",
        "XD = XDB[['Age' , 'Income' , 'Years' , 'Hours']] # variables entrada\n",
        "yd = XDB['Buy'] #variables de referencia - salida"
      ],
      "metadata": {
        "id": "LrbVS1Tk5OMN"
      },
      "execution_count": null,
      "outputs": []
    },
    {
      "cell_type": "markdown",
      "source": [
        "**3. se procede con la implementación del modelo**"
      ],
      "metadata": {
        "id": "W2XSO6Gr-YBj"
      }
    },
    {
      "cell_type": "code",
      "source": [
        "mar = DecisionTreeClassifier(criterion = 'gini' , max_depth = 4) #max depth corresponde el maximo nivel de profundidad que tiene el arbol (5 porque tengo 5 variables)\n",
        "mar.fit(XD , yd)\n",
        "\n",
        "#para la grafica del arbol de decision\n",
        "from sklearn.tree import export_graphviz\n",
        "from pydotplus import graph_from_dot_data\n",
        "dot_data = export_graphviz(mar , feature_names = XD.columns)\n",
        "graph = graph_from_dot_data(dot_data)\n",
        "graph.write_png('2. Desition_Tree_Reto_Quincenal_2.png')"
      ],
      "metadata": {
        "colab": {
          "base_uri": "https://localhost:8080/"
        },
        "id": "bv2VssND-qbR",
        "outputId": "a772ef40-d339-4985-8617-01453ea2b4c5"
      },
      "execution_count": null,
      "outputs": [
        {
          "output_type": "execute_result",
          "data": {
            "text/plain": [
              "True"
            ]
          },
          "metadata": {},
          "execution_count": 3
        }
      ]
    },
    {
      "cell_type": "markdown",
      "source": [
        "**4. evaluamos el comportamiento del modelo frente a los datos presentados**"
      ],
      "metadata": {
        "id": "U6GlLgkF_OYB"
      }
    },
    {
      "cell_type": "code",
      "source": [
        "ydp = mar.predict(XD) #vamos a estresar el modelo - backtesting\n",
        "cm = confusion_matrix(yd , ydp)\n",
        "print(cm)\n",
        "VN = cm[0,0]\n",
        "FP = cm[0,1]\n",
        "FN = cm[1,0]\n",
        "VP = cm[1,1]\n",
        "print('VN = ' , VN)\n",
        "print('FP = ' , FP)\n",
        "print('FN = ' , FN)\n",
        "print('VP = ' , VP)\n",
        "TD = VN + FP + FN + VP\n",
        "\n",
        "#EXACTITUD: MUESTRA EL COMPORTAMIENTO GENERAL DEL MODELO\n",
        "Ex = (VN+VP)/TD ; print(\"exactitud: \" , Ex) #comportamiento general del modelo\n",
        "\n",
        "#tasa de error: porcentaje de equivocacion\n",
        "Ter= (FP+FN)/TD ; print(\"tasa de error: \" , Ter) #comportamiento erroneo del modelo\n",
        "\n",
        "#sensibilidad: como se comporta el modelo frente a los jugadores que compran en la pagina\n",
        "Sen = VP/(VP+FN) ; print(\"sensibilidad: \" , Sen) #comportamiento frente a los preaprobados Con VP y FP\n",
        "\n",
        "#Especificidad: como se comporta el modelo frente a los que no compran en la pagina\n",
        "Esp= VN/(VN+FP) ; print(\"especificidad: \" , Esp) #comportamiento frente a los prenegados Con VN y FN\n",
        "\n",
        "#precision: capacidad del modelo para predecir VP\n",
        "prec = VP/(VP+FP) ; print('Precisión' , prec) #comportamiento solamente contando los positivos vp (lo que compran juegos en la pagina)\n",
        "\n",
        "PredNeg = VN/(VN+FN)  ; print('Predictividad negativa' , PredNeg)#comportamiento solamente contando los negativos VN (lo que no compran juegos en la pagina)\n"
      ],
      "metadata": {
        "colab": {
          "base_uri": "https://localhost:8080/"
        },
        "outputId": "52182af9-052f-4a32-9e9f-1eb3448c1eed",
        "id": "41T-zRjbF0qq"
      },
      "execution_count": null,
      "outputs": [
        {
          "output_type": "stream",
          "name": "stdout",
          "text": [
            "[[139  50]\n",
            " [ 11 200]]\n",
            "VN =  139\n",
            "FP =  50\n",
            "FN =  11\n",
            "VP =  200\n",
            "exactitud:  0.8475\n",
            "tasa de error:  0.1525\n",
            "sensibilidad:  0.9478672985781991\n",
            "especificidad:  0.7354497354497355\n",
            "Precisión 0.8\n",
            "Predictividad negativa 0.9266666666666666\n"
          ]
        }
      ]
    },
    {
      "cell_type": "markdown",
      "source": [
        "**5. Con base al arbol de decision creado determino las reglas  de los nodos puros**\n",
        "\n"
      ],
      "metadata": {
        "id": "Y63WlXDmKlMg"
      }
    },
    {
      "cell_type": "code",
      "source": [
        "#Ruta Nodo Puro 1=Income<=63.5 en donde la decision se denota [90,0]\n",
        "#Ruta Nodo Puro 2=Income>=63.5 AND years<=1.5 AND age>=23.0 en donde la decision se denota [28,0]\n",
        "#Ruta Nodo Puro 3= Income>=63.5 AND years<=1.5 AND years<=0.5 AND Age >=23.0  en donde la decision se denota [5,0]"
      ],
      "metadata": {
        "id": "d072VjoyK7kO"
      },
      "execution_count": null,
      "outputs": []
    },
    {
      "cell_type": "markdown",
      "source": [
        "**6. Con base al arbol de decision creado determino cuál es la ruta de negocio y la probabilidad de que el primer jugador y el segundo jugador de la base de datos \"In_App_Pur_Score\" hagan compras dentro de la aplicación.**"
      ],
      "metadata": {
        "id": "l2CmmC3VBtC6"
      }
    },
    {
      "cell_type": "code",
      "source": [
        "# Ruta de negocio 1er jugador = Income > 63.5 AND Years > 1.5AND Years <= 5.5 AND Income > 76.5 THEN [38,77]\n",
        "#Gini= 0.442\n",
        "#Sample= 115\n",
        "ProbabilidadNoCompra_1er_jugador = (38/115)*100\n",
        "probabilidadCompra_1er_jugador = (77/115)*100\n",
        "\n",
        "# Ruta de negocio 2do jugador = Income > 63.5 AND Years <= 1.5 AND Age > 23.0 THEN [28,0]\n",
        "#Gini= 0.0\n",
        "#Sample= 28\n",
        "probabilidadNoCompra_2do_jugador = (28/28)*100\n",
        "probabilidadCompra_2do_jugador = (0/28)*100\n",
        "\n",
        "print(\"La probabilidad de que el jugador 1 no haga una compra es de: \" , ProbabilidadNoCompra_1er_jugador , \"%\")\n",
        "print(\"La probabilidad de que el jugador 1 haga una compra es de: \" , probabilidadCompra_1er_jugador , \"%\")\n",
        "print(\"La probabilidad de que el jugador 2 no haga una compra es de: \" , probabilidadNoCompra_2do_jugador, \"%\")\n",
        "print(\"La probabilidad de que el jugador 2 haga una compra es de: \" , probabilidadCompra_2do_jugador, \"%\" )\n"
      ],
      "metadata": {
        "colab": {
          "base_uri": "https://localhost:8080/"
        },
        "id": "Ke5XBpwLH8VZ",
        "outputId": "f22fa7d8-b1e3-4616-d50d-e124af1d6eeb"
      },
      "execution_count": null,
      "outputs": [
        {
          "output_type": "stream",
          "name": "stdout",
          "text": [
            "La probabilidad de que el jugador 1 no haga una compra es de:  33.04347826086956 %\n",
            "La probabilidad de que el jugador 1 haga una compra es de:  66.95652173913044 %\n",
            "La probabilidad de que el jugador 2 no haga una compra es de:  100.0 %\n",
            "La probabilidad de que el jugador 2 haga una compra es de:  0.0 %\n"
          ]
        }
      ]
    },
    {
      "cell_type": "markdown",
      "source": [
        "### **Analisis de resultados **\n",
        "\n",
        "* De la matriz de confusion se puede observar que el modelo tiene la tendecnia a equivocarse en mayor medida en la prediccion de los valores de los jugadores que no compran en la pagina con un total de 11 falsos negativos, frente a un 50 de falsos positivos.\n",
        "\n",
        "* La tasa de error del modelo corresponde a un 15%\n",
        "\n",
        " * De acuerdo con los resultados obtenidos por el modelo podemos observar de manera general que el modelo logro una exactitud que se ubico por encima del 84% en promedio (0.8475). Lo que indica el buen comportamiento general del modelo frente a la prediccion de si un jugador compra en la plataforma o no.\n",
        "\n",
        " * De esta misma manera se puede observar que el modelo tiende a predecir  mas jugadores que compram en la plataforma que los que no compram en la pagina, ya que tenemos un sensibilidad del 94% en promedio (0.9478) y una especifidad el 73% en promedio (0.7354)\n",
        "\n",
        " * Se destaca que en el arbol, que las variables que tuvieron una mayor relevancia fueron las variables Income, seguida de los Years.\n",
        "\n",
        " * Se destaca igualmente que el arbol tuvo un total de 3 nodos puros, el primero esta definido por la siguiente regla del negocio:Income<=63.5 en donde la decision se denota [90,0], lo que indica que los jugadores que cumplan con esta caracteristica no compran en la pagina con una certeza del 100%. El segundo nodo puro esta definido por la siguiente regla del negocio:Income>=63.5 AND years<=1.5 AND age>=23.0 en donde la decision se denota [28,0]lo que indica que los jugadores que cumplan con esta caracteristica no compran en la pagina con una certeza del 100%. Y el tercer nodo puro esta definido por la siguiente regla del negocio:Income>=63.5 AND years<=1.5 AND years<=0.5 AND Age >=23.0  en donde la decision se denota [5,0]lo que indica que los jugadores que cumplan con esta caracteristica no compran en la pagina con una certeza del 100%.\n",
        "\n",
        " * Por otro lado, podemos decir que una persona con las siguientes caracteristicas(Age=21, Income=128, Years=3, Hours=22) tiene la siguente ruta de negocio en el arbo de decision:Income > 63.5 AND Years > 1.5AND Years <= 5.5 AND Income > 76.5 en donde la decision se denota [38,77], Lo que nos permite conocer que la probabilidad de que este jugador compre en la plataforma es del 66.95% y de que no haga una compra en la plataforma del 33.04%\n",
        "\n",
        "* Tambien, podemos decir que una persona con las siguientes caracteristicas(Age=50, Income=128, Years=1, Hours=6) tiene la siguente ruta de negocio en el arbo de decision:Income > 63.5 AND Years <= 1.5 AND Age > 23.0 en donde la decision se denota[28,0], Lo que nos permite conocer que la probabilidad de que este jugador compre en la plataforma es del 0.0% y de que no haga una compra en la plataforma del 100%\n",
        "\n",
        "* Finalmente, podemos determinar el porcentaje que una persona  queutilice la tarjeta de crédito para la siguiente regla SI Income>63.5 AND Years>1.5 AND Years>5.5 AND Income<=137.5. en donde la decision se denota [11,21], esto nos permite saber que esta persona la probabilidad del 8% de que no compre en la pagina y una probabilidad del 91% de que si compre en la pagina"
      ],
      "metadata": {
        "id": "F_yf05A4d2Uw"
      }
    }
  ]
}